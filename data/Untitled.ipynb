{
 "cells": [
  {
   "cell_type": "code",
   "execution_count": 3,
   "id": "c85617c6-b02a-4014-8eb9-f69c92ffe0e2",
   "metadata": {},
   "outputs": [],
   "source": [
    "import pickle\n",
    "import numpy as np"
   ]
  },
  {
   "cell_type": "code",
   "execution_count": 4,
   "id": "1db2eb73-e283-4902-ae55-26f2375557c1",
   "metadata": {},
   "outputs": [],
   "source": [
    "with open('knn_model.pkl','rb') as f:\n",
    "    knn_clf = pickle.load(f)"
   ]
  },
  {
   "cell_type": "code",
   "execution_count": 5,
   "id": "b095c671-7e0f-4254-9275-ac92c50c568d",
   "metadata": {},
   "outputs": [
    {
     "data": {
      "text/plain": [
       "20"
      ]
     },
     "execution_count": 5,
     "metadata": {},
     "output_type": "execute_result"
    }
   ],
   "source": [
    "knn_clf.n_features_in_"
   ]
  },
  {
   "cell_type": "code",
   "execution_count": 6,
   "id": "c40f81f5-d8c8-415d-a2d3-0db8b1b01e34",
   "metadata": {},
   "outputs": [
    {
     "data": {
      "text/plain": [
       "array(['battery_power', 'blue', 'clock_speed', 'dual_sim', 'fc', 'four_g',\n",
       "       'int_memory', 'm_dep', 'mobile_wt', 'n_cores', 'pc', 'px_height',\n",
       "       'px_width', 'ram', 'sc_h', 'sc_w', 'talk_time', 'three_g',\n",
       "       'touch_screen', 'wifi'], dtype=object)"
      ]
     },
     "execution_count": 6,
     "metadata": {},
     "output_type": "execute_result"
    }
   ],
   "source": [
    "knn_clf.feature_names_in_"
   ]
  },
  {
   "cell_type": "code",
   "execution_count": 7,
   "id": "83f7228a-2c98-4649-bc3a-fe944fbcb2cf",
   "metadata": {},
   "outputs": [
    {
     "name": "stderr",
     "output_type": "stream",
     "text": [
      "C:\\Users\\HP\\AppData\\Local\\Programs\\Python\\Python311\\Lib\\site-packages\\sklearn\\base.py:465: UserWarning: X does not have valid feature names, but KNeighborsClassifier was fitted with feature names\n",
      "  warnings.warn(\n"
     ]
    },
    {
     "name": "stdout",
     "output_type": "stream",
     "text": [
      "1\n"
     ]
    }
   ],
   "source": [
    "battery_power = 900\n",
    "blue = 0\n",
    "clock_speed = 0.5\n",
    "dual_sim = 1\n",
    "fc = 0\n",
    "four_g = 1\n",
    "int_memory = 150\n",
    "m_dep = 0.8\n",
    "mobile_wt = 160\n",
    "n_cores = 6\n",
    "pc = 8\n",
    "px_height = 1000\n",
    "px_width = 1500\n",
    "ram = 1600\n",
    "sc_h = 16\n",
    "sc_w = 9\n",
    "talk_time = 17\n",
    "three_g = 1\n",
    "touch_screen = 1\n",
    "wifi = 1\n",
    "\n",
    "test_array = np.array([battery_power, blue, clock_speed, dual_sim, fc, four_g,\n",
    "       int_memory, m_dep, mobile_wt, n_cores, pc, px_height,\n",
    "       px_width, ram, sc_h, sc_w, talk_time, three_g,\n",
    "       touch_screen, wifi],ndmin =2)\n",
    "\n",
    "\n",
    "predicted_price = knn_clf.predict(test_array)[0]\n",
    "\n",
    "print(predicted_price)"
   ]
  },
  {
   "cell_type": "code",
   "execution_count": 10,
   "id": "b3be2021-781d-480c-b92f-db41bf12b3ac",
   "metadata": {},
   "outputs": [],
   "source": [
    "# !pip install flask\n",
    "# !pip install jsonify\n",
    "import flask\n",
    "import jsonify\n"
   ]
  },
  {
   "cell_type": "code",
   "execution_count": null,
   "id": "f7782c26-bbcd-4920-99ad-30bd0487722a",
   "metadata": {},
   "outputs": [],
   "source": [
    "with open('knn_model.pkl','rb') as f:\n",
    "    knn_clf = pickle.load(f)\n",
    "\n",
    "\n",
    "battery_power = 900\n",
    "blue = 0\n",
    "clock_speed = 0.5\n",
    "dual_sim = 1\n",
    "fc = 0\n",
    "four_g = 1\n",
    "int_memory = 150\n",
    "m_dep = 0.8\n",
    "mobile_wt = 160\n",
    "n_cores = 6\n",
    "pc = 8\n",
    "px_height = 1000\n",
    "px_width = 1500\n",
    "ram = 1600\n",
    "sc_h = 16\n",
    "sc_w = 9\n",
    "talk_time = 17\n",
    "three_g = 1\n",
    "touch_screen = 1\n",
    "wifi = 1\n",
    "\n",
    "test_array = np.array([battery_power, blue, clock_speed, dual_sim, fc, four_g,\n",
    "       int_memory, m_dep, mobile_wt, n_cores, pc, px_height,\n",
    "       px_width, ram, sc_h, sc_w, talk_time, three_g,\n",
    "       touch_screen, wifi],ndmin =2)\n",
    "\n",
    "\n",
    "predicted_price = knn_clf.predict(test_array)[0]\n",
    "\n",
    "print(predicted_price)"
   ]
  }
 ],
 "metadata": {
  "kernelspec": {
   "display_name": "Python 3 (ipykernel)",
   "language": "python",
   "name": "python3"
  },
  "language_info": {
   "codemirror_mode": {
    "name": "ipython",
    "version": 3
   },
   "file_extension": ".py",
   "mimetype": "text/x-python",
   "name": "python",
   "nbconvert_exporter": "python",
   "pygments_lexer": "ipython3",
   "version": "3.11.4"
  }
 },
 "nbformat": 4,
 "nbformat_minor": 5
}
